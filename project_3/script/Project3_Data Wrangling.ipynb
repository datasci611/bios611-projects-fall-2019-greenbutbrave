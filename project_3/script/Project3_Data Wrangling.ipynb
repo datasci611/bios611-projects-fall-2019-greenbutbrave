{
 "cells": [
  {
   "cell_type": "code",
   "execution_count": 253,
   "metadata": {},
   "outputs": [],
   "source": [
    "import pandas as pd\n",
    "import numpy as np\n",
    "import datetime as datetime"
   ]
  },
  {
   "cell_type": "code",
   "execution_count": 254,
   "metadata": {},
   "outputs": [],
   "source": [
    "# Client's information\n",
    "client_url = 'https://raw.githubusercontent.com/biodatascience/datasci611/gh-pages/data/project2_2019/CLIENT_191102.tsv'\n",
    "client = pd.read_csv(client_url, sep = '\\t')\n",
    "# Client's income information\n",
    "income_url = 'https://raw.githubusercontent.com/biodatascience/datasci611/gh-pages/data/project2_2019/INCOME_ENTRY_191102.tsv'\n",
    "income = pd.read_csv(income_url, sep = '\\t') \n",
    "# Client's entry/exit information\n",
    "time_url = 'https://raw.githubusercontent.com/biodatascience/datasci611/gh-pages/data/project2_2019/ENTRY_EXIT_191102.tsv'\n",
    "time = pd.read_csv(time_url, sep = '\\t') \n",
    "# Client's detail information\n",
    "detail_url = 'https://raw.githubusercontent.com/biodatascience/datasci611/gh-pages/data/project2_2019/EE_UDES_191102.tsv'\n",
    "detail = pd.read_csv(detail_url, sep = '\\t') "
   ]
  },
  {
   "cell_type": "code",
   "execution_count": 255,
   "metadata": {},
   "outputs": [],
   "source": [
    "# Remove unimportant indentifier columns\n",
    "client.drop([\"EE Provider ID\", \"EE UID\", \"Client Unique ID\"], inplace=True, axis = 1)\n",
    "income.drop([\"EE Provider ID\", \"EE UID\", \"Client Unique ID\", \"Recordset ID (140-recordset_id)\", \"Provider (140-provider)\"], inplace=True,  axis = 1)\n",
    "time.drop([\"EE Provider ID\", \"EE UID\", \"Client Unique ID\"], inplace=True, axis = 1)\n",
    "detail.drop([\"EE Provider ID\", \"EE UID\", \"Client Unique ID\"], inplace=True, axis = 1)"
   ]
  },
  {
   "cell_type": "code",
   "execution_count": 256,
   "metadata": {},
   "outputs": [],
   "source": [
    "# Drop uplicates\n",
    "final_client = client.drop_duplicates()\n",
    "final_income = income.drop_duplicates()\n",
    "final_time = time.drop_duplicates()\n",
    "final_detail = time.drop_duplicates()"
   ]
  },
  {
   "cell_type": "code",
   "execution_count": 257,
   "metadata": {},
   "outputs": [],
   "source": [
    "# Client Data: select intersting columns, change the columns' names, and remove missing data\n",
    "final_client_real = final_client[[\"Client ID\",\"Client Age at Entry\",\"Client Gender\",\"Client Primary Race\",\"Client Ethnicity\",\"Client Veteran Status\"]].dropna()\n",
    "final_client_real.columns = [\"Client\",\"Age\",\"Gender\",\"Race\",\"Ethnicity\",\"Veteran\"]"
   ]
  },
  {
   "cell_type": "code",
   "execution_count": 258,
   "metadata": {},
   "outputs": [
    {
     "data": {
      "text/html": [
       "<div>\n",
       "<style scoped>\n",
       "    .dataframe tbody tr th:only-of-type {\n",
       "        vertical-align: middle;\n",
       "    }\n",
       "\n",
       "    .dataframe tbody tr th {\n",
       "        vertical-align: top;\n",
       "    }\n",
       "\n",
       "    .dataframe thead th {\n",
       "        text-align: right;\n",
       "    }\n",
       "</style>\n",
       "<table border=\"1\" class=\"dataframe\">\n",
       "  <thead>\n",
       "    <tr style=\"text-align: right;\">\n",
       "      <th></th>\n",
       "      <th>Client</th>\n",
       "      <th>Age</th>\n",
       "      <th>Gender</th>\n",
       "      <th>Race</th>\n",
       "      <th>Ethnicity</th>\n",
       "      <th>Veteran</th>\n",
       "    </tr>\n",
       "  </thead>\n",
       "  <tbody>\n",
       "    <tr>\n",
       "      <td>0</td>\n",
       "      <td>397941</td>\n",
       "      <td>60.0</td>\n",
       "      <td>Female</td>\n",
       "      <td>White (HUD)</td>\n",
       "      <td>Non-Hispanic/Non-Latino (HUD)</td>\n",
       "      <td>No (HUD)</td>\n",
       "    </tr>\n",
       "    <tr>\n",
       "      <td>1</td>\n",
       "      <td>130335</td>\n",
       "      <td>48.0</td>\n",
       "      <td>Female</td>\n",
       "      <td>Black or African American (HUD)</td>\n",
       "      <td>Non-Hispanic/Non-Latino (HUD)</td>\n",
       "      <td>No (HUD)</td>\n",
       "    </tr>\n",
       "    <tr>\n",
       "      <td>2</td>\n",
       "      <td>188933</td>\n",
       "      <td>42.0</td>\n",
       "      <td>Female</td>\n",
       "      <td>Black or African American (HUD)</td>\n",
       "      <td>Non-Hispanic/Non-Latino (HUD)</td>\n",
       "      <td>No (HUD)</td>\n",
       "    </tr>\n",
       "    <tr>\n",
       "      <td>3</td>\n",
       "      <td>168290</td>\n",
       "      <td>57.0</td>\n",
       "      <td>Male</td>\n",
       "      <td>White (HUD)</td>\n",
       "      <td>Hispanic/Latino (HUD)</td>\n",
       "      <td>No (HUD)</td>\n",
       "    </tr>\n",
       "    <tr>\n",
       "      <td>4</td>\n",
       "      <td>123122</td>\n",
       "      <td>51.0</td>\n",
       "      <td>Male</td>\n",
       "      <td>White (HUD)</td>\n",
       "      <td>Non-Hispanic/Non-Latino (HUD)</td>\n",
       "      <td>No (HUD)</td>\n",
       "    </tr>\n",
       "  </tbody>\n",
       "</table>\n",
       "</div>"
      ],
      "text/plain": [
       "   Client   Age  Gender                             Race  \\\n",
       "0  397941  60.0  Female                      White (HUD)   \n",
       "1  130335  48.0  Female  Black or African American (HUD)   \n",
       "2  188933  42.0  Female  Black or African American (HUD)   \n",
       "3  168290  57.0    Male                      White (HUD)   \n",
       "4  123122  51.0    Male                      White (HUD)   \n",
       "\n",
       "                       Ethnicity   Veteran  \n",
       "0  Non-Hispanic/Non-Latino (HUD)  No (HUD)  \n",
       "1  Non-Hispanic/Non-Latino (HUD)  No (HUD)  \n",
       "2  Non-Hispanic/Non-Latino (HUD)  No (HUD)  \n",
       "3          Hispanic/Latino (HUD)  No (HUD)  \n",
       "4  Non-Hispanic/Non-Latino (HUD)  No (HUD)  "
      ]
     },
     "execution_count": 258,
     "metadata": {},
     "output_type": "execute_result"
    }
   ],
   "source": [
    "final_client_real.head()"
   ]
  },
  {
   "cell_type": "code",
   "execution_count": 259,
   "metadata": {},
   "outputs": [],
   "source": [
    "# Client Data: since there are \"(HUD)\"s at the end of the options in the Race, Ethnicity, and Veteran Variable, simplify the options \n",
    "final_client_real = final_client_real.replace(to_replace = \"Trans Female (MTF or Male to Female)\", value = \"Trans Female\")\n",
    "final_client_real = final_client_real.replace(to_replace = \"American Indian or Alaska Native (HUD)\", value = \"American Indian or Alaska Native\")\n",
    "final_client_real = final_client_real.replace(to_replace = \"Asian (HUD)\", value = \"Asian\")\n",
    "final_client_real = final_client_real.replace(to_replace = \"Black or African American (HUD)\", value = \"Black/African American\")\n",
    "final_client_real = final_client_real.replace(to_replace = \"Native Hawaiian or Other Pacific Islander (HUD)\", value = \"Native Hawaiian/Pacific Islander\") \n",
    "final_client_real = final_client_real.replace(to_replace = \"White (HUD)\", value = \"White\")\n",
    "final_client_real = final_client_real.replace(to_replace = \"Hispanic/Latino (HUD)\", value = \"Hispanic/Latino\") \n",
    "final_client_real = final_client_real.replace(to_replace = \"Non-Hispanic/Non-Latino (HUD)\", value = \"Non-Hispanic/Non-Latino\") \n",
    "final_client_real = final_client_real.replace(to_replace = \"Data not collected (HUD)\", value = \"Missing\") \n",
    "final_client_real = final_client_real.replace(to_replace = \"Client refused (HUD)\", value = \"Missing\") \n",
    "final_client_real = final_client_real.replace(to_replace = \"Client doesn't Know (HUD)\", value = \"Missing\") \n",
    "final_client_real = final_client_real.replace(to_replace = \"Client doesn't know (HUD)\", value = \"Missing\") \n",
    "final_client_real = final_client_real.replace(to_replace = \"Yes (HUD)\", value = \"Yes\") \n",
    "final_client_real = final_client_real.replace(to_replace = \"No (HUD)\", value = \"No\") "
   ]
  },
  {
   "cell_type": "code",
   "execution_count": 260,
   "metadata": {
    "scrolled": true
   },
   "outputs": [
    {
     "data": {
      "text/html": [
       "<div>\n",
       "<style scoped>\n",
       "    .dataframe tbody tr th:only-of-type {\n",
       "        vertical-align: middle;\n",
       "    }\n",
       "\n",
       "    .dataframe tbody tr th {\n",
       "        vertical-align: top;\n",
       "    }\n",
       "\n",
       "    .dataframe thead th {\n",
       "        text-align: right;\n",
       "    }\n",
       "</style>\n",
       "<table border=\"1\" class=\"dataframe\">\n",
       "  <thead>\n",
       "    <tr style=\"text-align: right;\">\n",
       "      <th></th>\n",
       "      <th>Client</th>\n",
       "      <th>Age</th>\n",
       "      <th>Gender</th>\n",
       "      <th>Race</th>\n",
       "      <th>Ethnicity</th>\n",
       "      <th>Veteran</th>\n",
       "    </tr>\n",
       "  </thead>\n",
       "  <tbody>\n",
       "    <tr>\n",
       "      <td>0</td>\n",
       "      <td>397941</td>\n",
       "      <td>60.0</td>\n",
       "      <td>Female</td>\n",
       "      <td>White</td>\n",
       "      <td>Non-Hispanic/Non-Latino</td>\n",
       "      <td>No</td>\n",
       "    </tr>\n",
       "    <tr>\n",
       "      <td>1</td>\n",
       "      <td>130335</td>\n",
       "      <td>48.0</td>\n",
       "      <td>Female</td>\n",
       "      <td>Black/African American</td>\n",
       "      <td>Non-Hispanic/Non-Latino</td>\n",
       "      <td>No</td>\n",
       "    </tr>\n",
       "    <tr>\n",
       "      <td>2</td>\n",
       "      <td>188933</td>\n",
       "      <td>42.0</td>\n",
       "      <td>Female</td>\n",
       "      <td>Black/African American</td>\n",
       "      <td>Non-Hispanic/Non-Latino</td>\n",
       "      <td>No</td>\n",
       "    </tr>\n",
       "    <tr>\n",
       "      <td>3</td>\n",
       "      <td>168290</td>\n",
       "      <td>57.0</td>\n",
       "      <td>Male</td>\n",
       "      <td>White</td>\n",
       "      <td>Hispanic/Latino</td>\n",
       "      <td>No</td>\n",
       "    </tr>\n",
       "    <tr>\n",
       "      <td>4</td>\n",
       "      <td>123122</td>\n",
       "      <td>51.0</td>\n",
       "      <td>Male</td>\n",
       "      <td>White</td>\n",
       "      <td>Non-Hispanic/Non-Latino</td>\n",
       "      <td>No</td>\n",
       "    </tr>\n",
       "  </tbody>\n",
       "</table>\n",
       "</div>"
      ],
      "text/plain": [
       "   Client   Age  Gender                    Race                Ethnicity  \\\n",
       "0  397941  60.0  Female                   White  Non-Hispanic/Non-Latino   \n",
       "1  130335  48.0  Female  Black/African American  Non-Hispanic/Non-Latino   \n",
       "2  188933  42.0  Female  Black/African American  Non-Hispanic/Non-Latino   \n",
       "3  168290  57.0    Male                   White          Hispanic/Latino   \n",
       "4  123122  51.0    Male                   White  Non-Hispanic/Non-Latino   \n",
       "\n",
       "  Veteran  \n",
       "0      No  \n",
       "1      No  \n",
       "2      No  \n",
       "3      No  \n",
       "4      No  "
      ]
     },
     "execution_count": 260,
     "metadata": {},
     "output_type": "execute_result"
    }
   ],
   "source": [
    "final_client_real.head()"
   ]
  },
  {
   "cell_type": "code",
   "execution_count": 261,
   "metadata": {},
   "outputs": [],
   "source": [
    "# Client Data: Drop missing data in Ethnicity (\"Data not collected (HUD)\", \"Client refused (HUD)\", \"Client doesn't Know (HUD)\")\n",
    "final_client_real = final_client_real[final_client_real[\"Ethnicity\"] != \"Missing\"]\n",
    "final_client_real = final_client_real[final_client_real[\"Race\"] != \"Missing\"]"
   ]
  },
  {
   "cell_type": "code",
   "execution_count": 262,
   "metadata": {},
   "outputs": [],
   "source": [
    "# Income Data: select intersting columns, change the columns' names, and drop missing data\n",
    "final_income_real = final_income[[\"Client ID\",\"Monthly Amount (Entry)\"]].dropna()\n",
    "final_income_real.columns = [\"Client\",\"Income_Monthly\"]"
   ]
  },
  {
   "cell_type": "code",
   "execution_count": 263,
   "metadata": {},
   "outputs": [
    {
     "data": {
      "text/html": [
       "<div>\n",
       "<style scoped>\n",
       "    .dataframe tbody tr th:only-of-type {\n",
       "        vertical-align: middle;\n",
       "    }\n",
       "\n",
       "    .dataframe tbody tr th {\n",
       "        vertical-align: top;\n",
       "    }\n",
       "\n",
       "    .dataframe thead th {\n",
       "        text-align: right;\n",
       "    }\n",
       "</style>\n",
       "<table border=\"1\" class=\"dataframe\">\n",
       "  <thead>\n",
       "    <tr style=\"text-align: right;\">\n",
       "      <th></th>\n",
       "      <th>Client</th>\n",
       "      <th>Income_Monthly</th>\n",
       "    </tr>\n",
       "  </thead>\n",
       "  <tbody>\n",
       "    <tr>\n",
       "      <td>43</td>\n",
       "      <td>130335</td>\n",
       "      <td>733.0</td>\n",
       "    </tr>\n",
       "    <tr>\n",
       "      <td>147</td>\n",
       "      <td>363382</td>\n",
       "      <td>1200.0</td>\n",
       "    </tr>\n",
       "    <tr>\n",
       "      <td>162</td>\n",
       "      <td>165730</td>\n",
       "      <td>733.0</td>\n",
       "    </tr>\n",
       "    <tr>\n",
       "      <td>166</td>\n",
       "      <td>291392</td>\n",
       "      <td>800.0</td>\n",
       "    </tr>\n",
       "    <tr>\n",
       "      <td>207</td>\n",
       "      <td>385539</td>\n",
       "      <td>250.0</td>\n",
       "    </tr>\n",
       "  </tbody>\n",
       "</table>\n",
       "</div>"
      ],
      "text/plain": [
       "     Client  Income_Monthly\n",
       "43   130335           733.0\n",
       "147  363382          1200.0\n",
       "162  165730           733.0\n",
       "166  291392           800.0\n",
       "207  385539           250.0"
      ]
     },
     "execution_count": 263,
     "metadata": {},
     "output_type": "execute_result"
    }
   ],
   "source": [
    "final_income_real.head()"
   ]
  },
  {
   "cell_type": "code",
   "execution_count": 264,
   "metadata": {},
   "outputs": [],
   "source": [
    "# Entry/Exit Data: select intersting columns, change the columns' names, and drop missing data\n",
    "final_time_real = final_time[[\"Client ID\",\"Entry Date\",\"Exit Date\"]].dropna()\n",
    "final_time_real.columns = [\"Client\",\"Entry\",\"Exit\"]"
   ]
  },
  {
   "cell_type": "code",
   "execution_count": 265,
   "metadata": {},
   "outputs": [],
   "source": [
    "# Entry/Exit Data: transform entry and exit dates to datetime and create \"Time in UMD\" variable\n",
    "final_time_real[\"Entry\"] = pd.to_datetime(final_time_real[\"Entry\"], format='%m/%d/%Y')\n",
    "final_time_real[\"Exit\"] = pd.to_datetime(final_time_real[\"Exit\"], format='%m/%d/%Y')\n",
    "final_time_real[\"Time\"] = final_time_real[\"Exit\"] - final_time_real[\"Entry\"]  "
   ]
  },
  {
   "cell_type": "code",
   "execution_count": 266,
   "metadata": {},
   "outputs": [
    {
     "data": {
      "text/html": [
       "<div>\n",
       "<style scoped>\n",
       "    .dataframe tbody tr th:only-of-type {\n",
       "        vertical-align: middle;\n",
       "    }\n",
       "\n",
       "    .dataframe tbody tr th {\n",
       "        vertical-align: top;\n",
       "    }\n",
       "\n",
       "    .dataframe thead th {\n",
       "        text-align: right;\n",
       "    }\n",
       "</style>\n",
       "<table border=\"1\" class=\"dataframe\">\n",
       "  <thead>\n",
       "    <tr style=\"text-align: right;\">\n",
       "      <th></th>\n",
       "      <th>Client</th>\n",
       "      <th>Entry</th>\n",
       "      <th>Exit</th>\n",
       "      <th>Time</th>\n",
       "    </tr>\n",
       "  </thead>\n",
       "  <tbody>\n",
       "    <tr>\n",
       "      <td>0</td>\n",
       "      <td>397941</td>\n",
       "      <td>2015-08-15</td>\n",
       "      <td>2016-07-11</td>\n",
       "      <td>331 days</td>\n",
       "    </tr>\n",
       "    <tr>\n",
       "      <td>1</td>\n",
       "      <td>130335</td>\n",
       "      <td>2015-08-15</td>\n",
       "      <td>2015-08-31</td>\n",
       "      <td>16 days</td>\n",
       "    </tr>\n",
       "    <tr>\n",
       "      <td>2</td>\n",
       "      <td>188933</td>\n",
       "      <td>2015-08-15</td>\n",
       "      <td>2015-09-19</td>\n",
       "      <td>35 days</td>\n",
       "    </tr>\n",
       "    <tr>\n",
       "      <td>3</td>\n",
       "      <td>168290</td>\n",
       "      <td>2015-08-15</td>\n",
       "      <td>2016-03-07</td>\n",
       "      <td>205 days</td>\n",
       "    </tr>\n",
       "    <tr>\n",
       "      <td>4</td>\n",
       "      <td>123122</td>\n",
       "      <td>2015-08-15</td>\n",
       "      <td>2015-08-24</td>\n",
       "      <td>9 days</td>\n",
       "    </tr>\n",
       "  </tbody>\n",
       "</table>\n",
       "</div>"
      ],
      "text/plain": [
       "   Client      Entry       Exit     Time\n",
       "0  397941 2015-08-15 2016-07-11 331 days\n",
       "1  130335 2015-08-15 2015-08-31  16 days\n",
       "2  188933 2015-08-15 2015-09-19  35 days\n",
       "3  168290 2015-08-15 2016-03-07 205 days\n",
       "4  123122 2015-08-15 2015-08-24   9 days"
      ]
     },
     "execution_count": 266,
     "metadata": {},
     "output_type": "execute_result"
    }
   ],
   "source": [
    "final_time_real.head()"
   ]
  },
  {
   "cell_type": "code",
   "execution_count": 267,
   "metadata": {},
   "outputs": [],
   "source": [
    "# Entry/Exit Date: since there are \"days\" at the end of the options in the Time Variable, simplify the options \n",
    "final_time_real[\"Time\"] = final_time_real[\"Time\"].apply(lambda row: row.days)"
   ]
  },
  {
   "cell_type": "code",
   "execution_count": 268,
   "metadata": {},
   "outputs": [
    {
     "data": {
      "text/html": [
       "<div>\n",
       "<style scoped>\n",
       "    .dataframe tbody tr th:only-of-type {\n",
       "        vertical-align: middle;\n",
       "    }\n",
       "\n",
       "    .dataframe tbody tr th {\n",
       "        vertical-align: top;\n",
       "    }\n",
       "\n",
       "    .dataframe thead th {\n",
       "        text-align: right;\n",
       "    }\n",
       "</style>\n",
       "<table border=\"1\" class=\"dataframe\">\n",
       "  <thead>\n",
       "    <tr style=\"text-align: right;\">\n",
       "      <th></th>\n",
       "      <th>Client</th>\n",
       "      <th>Entry</th>\n",
       "      <th>Exit</th>\n",
       "      <th>Time</th>\n",
       "    </tr>\n",
       "  </thead>\n",
       "  <tbody>\n",
       "    <tr>\n",
       "      <td>0</td>\n",
       "      <td>397941</td>\n",
       "      <td>2015-08-15</td>\n",
       "      <td>2016-07-11</td>\n",
       "      <td>331</td>\n",
       "    </tr>\n",
       "    <tr>\n",
       "      <td>1</td>\n",
       "      <td>130335</td>\n",
       "      <td>2015-08-15</td>\n",
       "      <td>2015-08-31</td>\n",
       "      <td>16</td>\n",
       "    </tr>\n",
       "    <tr>\n",
       "      <td>2</td>\n",
       "      <td>188933</td>\n",
       "      <td>2015-08-15</td>\n",
       "      <td>2015-09-19</td>\n",
       "      <td>35</td>\n",
       "    </tr>\n",
       "    <tr>\n",
       "      <td>3</td>\n",
       "      <td>168290</td>\n",
       "      <td>2015-08-15</td>\n",
       "      <td>2016-03-07</td>\n",
       "      <td>205</td>\n",
       "    </tr>\n",
       "    <tr>\n",
       "      <td>4</td>\n",
       "      <td>123122</td>\n",
       "      <td>2015-08-15</td>\n",
       "      <td>2015-08-24</td>\n",
       "      <td>9</td>\n",
       "    </tr>\n",
       "  </tbody>\n",
       "</table>\n",
       "</div>"
      ],
      "text/plain": [
       "   Client      Entry       Exit  Time\n",
       "0  397941 2015-08-15 2016-07-11   331\n",
       "1  130335 2015-08-15 2015-08-31    16\n",
       "2  188933 2015-08-15 2015-09-19    35\n",
       "3  168290 2015-08-15 2016-03-07   205\n",
       "4  123122 2015-08-15 2015-08-24     9"
      ]
     },
     "execution_count": 268,
     "metadata": {},
     "output_type": "execute_result"
    }
   ],
   "source": [
    "final_time_real.head()"
   ]
  },
  {
   "cell_type": "code",
   "execution_count": 269,
   "metadata": {},
   "outputs": [],
   "source": [
    "# Entry/Exit Date: sum Time by Client\n",
    "final_time_real = final_time_real.groupby([\"Client\"])[\"Time\"].sum()"
   ]
  },
  {
   "cell_type": "code",
   "execution_count": 270,
   "metadata": {},
   "outputs": [
    {
     "data": {
      "text/plain": [
       "Client\n",
       "1096     14\n",
       "1097     26\n",
       "1555    302\n",
       "1616     29\n",
       "2024      1\n",
       "Name: Time, dtype: int64"
      ]
     },
     "execution_count": 270,
     "metadata": {},
     "output_type": "execute_result"
    }
   ],
   "source": [
    "final_time_real.head()"
   ]
  },
  {
   "cell_type": "code",
   "execution_count": 274,
   "metadata": {},
   "outputs": [],
   "source": [
    "# Detail Data: select intersting columns, change the columns' names, and remove missing data\n",
    "final_detail_real = detail[[\"Client ID\",\"Does the client have a disabling condition?(1935)\",\"Covered by Health Insurance(4376)\", \"Domestic violence victim/survivor(341)\"]].dropna()\n",
    "final_detail_real.columns = [\"Client\",\"Disability\",\"HealthInsurance\",\"DomesticViolence\"]"
   ]
  },
  {
   "cell_type": "code",
   "execution_count": 275,
   "metadata": {},
   "outputs": [
    {
     "data": {
      "text/html": [
       "<div>\n",
       "<style scoped>\n",
       "    .dataframe tbody tr th:only-of-type {\n",
       "        vertical-align: middle;\n",
       "    }\n",
       "\n",
       "    .dataframe tbody tr th {\n",
       "        vertical-align: top;\n",
       "    }\n",
       "\n",
       "    .dataframe thead th {\n",
       "        text-align: right;\n",
       "    }\n",
       "</style>\n",
       "<table border=\"1\" class=\"dataframe\">\n",
       "  <thead>\n",
       "    <tr style=\"text-align: right;\">\n",
       "      <th></th>\n",
       "      <th>Client</th>\n",
       "      <th>Disability</th>\n",
       "      <th>HealthInsurance</th>\n",
       "      <th>DomesticViolence</th>\n",
       "    </tr>\n",
       "  </thead>\n",
       "  <tbody>\n",
       "    <tr>\n",
       "      <td>0</td>\n",
       "      <td>397941</td>\n",
       "      <td>Yes (HUD)</td>\n",
       "      <td>Yes (HUD)</td>\n",
       "      <td>No (HUD)</td>\n",
       "    </tr>\n",
       "    <tr>\n",
       "      <td>1</td>\n",
       "      <td>130335</td>\n",
       "      <td>Yes (HUD)</td>\n",
       "      <td>Yes (HUD)</td>\n",
       "      <td>Yes (HUD)</td>\n",
       "    </tr>\n",
       "    <tr>\n",
       "      <td>2</td>\n",
       "      <td>188933</td>\n",
       "      <td>Yes (HUD)</td>\n",
       "      <td>No (HUD)</td>\n",
       "      <td>No (HUD)</td>\n",
       "    </tr>\n",
       "    <tr>\n",
       "      <td>3</td>\n",
       "      <td>168290</td>\n",
       "      <td>Yes (HUD)</td>\n",
       "      <td>No (HUD)</td>\n",
       "      <td>No (HUD)</td>\n",
       "    </tr>\n",
       "    <tr>\n",
       "      <td>4</td>\n",
       "      <td>123122</td>\n",
       "      <td>Yes (HUD)</td>\n",
       "      <td>No (HUD)</td>\n",
       "      <td>No (HUD)</td>\n",
       "    </tr>\n",
       "  </tbody>\n",
       "</table>\n",
       "</div>"
      ],
      "text/plain": [
       "   Client Disability HealthInsurance DomesticViolence\n",
       "0  397941  Yes (HUD)       Yes (HUD)         No (HUD)\n",
       "1  130335  Yes (HUD)       Yes (HUD)        Yes (HUD)\n",
       "2  188933  Yes (HUD)        No (HUD)         No (HUD)\n",
       "3  168290  Yes (HUD)        No (HUD)         No (HUD)\n",
       "4  123122  Yes (HUD)        No (HUD)         No (HUD)"
      ]
     },
     "execution_count": 275,
     "metadata": {},
     "output_type": "execute_result"
    }
   ],
   "source": [
    "final_detail_real.head()"
   ]
  },
  {
   "cell_type": "code",
   "execution_count": 276,
   "metadata": {},
   "outputs": [],
   "source": [
    "# Detail Data: since there are \"(HUD)\"s at the end of the options in the Disability, Health Insurance Coverage, and Domestic Violence Victim/Survivor, simplify the options \n",
    "final_detail_real = final_detail_real.replace(to_replace = \"Yes (HUD)\", value = \"Yes\")\n",
    "final_detail_real = final_detail_real.replace(to_replace = \"No (HUD)\", value = \"No\")\n",
    "final_detail_real = final_detail_real.replace(to_replace = \"Client doesn't Know (HUD)\", value = \"Missing\") \n",
    "final_detail_real = final_detail_real.replace(to_replace = \"Client doesn't know (HUD)\", value = \"Missing\") "
   ]
  },
  {
   "cell_type": "code",
   "execution_count": 277,
   "metadata": {},
   "outputs": [],
   "source": [
    "# Detail Data: Drop missing data in the variables (\"Client doesn't Know (HUD)\", \"Client doesn't know (HUD)\")\n",
    "final_detail_real = final_detail_real[final_detail_real[\"Disability\"] != \"Missing\"]\n",
    "final_detail_real = final_detail_real[final_detail_real[\"HealthInsurance\"] != \"Missing\"]\n",
    "final_detail_real = final_detail_real[final_detail_real[\"DomesticViolence\"] != \"Missing\"]"
   ]
  },
  {
   "cell_type": "code",
   "execution_count": 278,
   "metadata": {},
   "outputs": [],
   "source": [
    "# Merge\n",
    "client_income = pd.merge(final_client_real, final_income_real, how=\"inner\", \n",
    "                              left_on=[\"Client\"], right_on=[\"Client\"])\n",
    "client_income_detail = pd.merge(client_income, final_detail_real, how=\"inner\", \n",
    "                              left_on=[\"Client\"], right_on=[\"Client\"])\n",
    "client_income_detail_time = pd.merge(client_income_detail, final_time_real, how=\"inner\", \n",
    "                              left_on=[\"Client\"], right_on=[\"Client\"])"
   ]
  },
  {
   "cell_type": "code",
   "execution_count": 279,
   "metadata": {},
   "outputs": [
    {
     "data": {
      "text/plain": [
       "(2517, 11)"
      ]
     },
     "execution_count": 279,
     "metadata": {},
     "output_type": "execute_result"
    }
   ],
   "source": [
    "# Drop duplicates and missing data\n",
    "data = client_income_detail_time.drop_duplicates()\n",
    "final_data = data.dropna(axis=0,how='any')\n",
    "data.shape"
   ]
  },
  {
   "cell_type": "code",
   "execution_count": 280,
   "metadata": {},
   "outputs": [],
   "source": [
    "# Save: whole dataset\n",
    "final_data.to_csv(\"../script/final_data.csv\", index=False)"
   ]
  },
  {
   "cell_type": "code",
   "execution_count": 282,
   "metadata": {},
   "outputs": [],
   "source": [
    "# Final Data: select demographic variables (invariant)\n",
    "final_data_demo = final_data[[\"Client\",\"Gender\",\"Race\",\"Ethnicity\",\"Veteran\"]].dropna()\n",
    "final_data_demo = final_data_demo.drop_duplicates()"
   ]
  },
  {
   "cell_type": "code",
   "execution_count": 283,
   "metadata": {},
   "outputs": [],
   "source": [
    "# Save: demographic variables (invariant)\n",
    "final_data_demo.to_csv(\"../script/final_data_demo.csv\", index=False)"
   ]
  }
 ],
 "metadata": {
  "kernelspec": {
   "display_name": "Python 3",
   "language": "python",
   "name": "python3"
  },
  "language_info": {
   "codemirror_mode": {
    "name": "ipython",
    "version": 3
   },
   "file_extension": ".py",
   "mimetype": "text/x-python",
   "name": "python",
   "nbconvert_exporter": "python",
   "pygments_lexer": "ipython3",
   "version": "3.7.4"
  }
 },
 "nbformat": 4,
 "nbformat_minor": 2
}

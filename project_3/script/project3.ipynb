{
 "cells": [
  {
   "cell_type": "code",
   "execution_count": null,
   "metadata": {},
   "outputs": [],
   "source": [
    "import pandas as pd"
   ]
  },
  {
   "cell_type": "code",
   "execution_count": null,
   "metadata": {},
   "outputs": [],
   "source": [
    "# Client's Information\n",
    "client = pd.read_csv('../data/CLIENT_191102.tsv', sep = \"\\t\")\n",
    "# Client's Income Information\n",
    "income = pd.read_csv(\"../data/INCOME_ENTRY_191102.tsv\", sep = \"\\t\")"
   ]
  },
  {
   "cell_type": "code",
   "execution_count": null,
   "metadata": {},
   "outputs": [],
   "source": [
    "# Select Interesting Columns\n",
    "client.drop([\"EE Provider ID\", \"EE UID\", \"Client Unique ID\"], inplace=True, axis = 1)\n",
    "income.drop([\"EE Provider ID\", \"EE UID\", \"Client Unique ID\", \"Recordset ID (140-recordset_id)\", \"Provider (140-provider)\"], inplace=True,  axis = 1)"
   ]
  },
  {
   "cell_type": "code",
   "execution_count": null,
   "metadata": {},
   "outputs": [],
   "source": [
    "# Merge\n",
    "client_income = pd.merge(client, income, how=\"inner\", \n",
    "                              left_on=[\"Client ID\"], right_on=[\"Client ID\"])"
   ]
  },
  {
   "cell_type": "code",
   "execution_count": null,
   "metadata": {},
   "outputs": [],
   "source": [
    "# Save\n",
    "client_income.to_csv(\"../data/client_income.tsv\", index=False, sep = \"\\t\")"
   ]
  }
 ],
 "metadata": {
  "kernelspec": {
   "display_name": "Python 3",
   "language": "python",
   "name": "python3"
  },
  "language_info": {
   "codemirror_mode": {
    "name": "ipython",
    "version": 3
   },
   "file_extension": ".py",
   "mimetype": "text/x-python",
   "name": "python",
   "nbconvert_exporter": "python",
   "pygments_lexer": "ipython3",
   "version": "3.7.4"
  }
 },
 "nbformat": 4,
 "nbformat_minor": 2
}
